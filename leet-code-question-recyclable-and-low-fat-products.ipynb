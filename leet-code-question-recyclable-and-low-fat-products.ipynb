{
 "cells": [
  {
   "cell_type": "code",
   "execution_count": 1,
   "id": "79ed8939",
   "metadata": {
    "_cell_guid": "b1076dfc-b9ad-4769-8c92-a6c4dae69d19",
    "_uuid": "8f2839f25d086af736a60e9eeb907d3b93b6e0e5",
    "execution": {
     "iopub.execute_input": "2023-12-20T01:32:56.377367Z",
     "iopub.status.busy": "2023-12-20T01:32:56.377028Z",
     "iopub.status.idle": "2023-12-20T01:32:56.670908Z",
     "shell.execute_reply": "2023-12-20T01:32:56.669714Z"
    },
    "papermill": {
     "duration": 0.301745,
     "end_time": "2023-12-20T01:32:56.673199",
     "exception": false,
     "start_time": "2023-12-20T01:32:56.371454",
     "status": "completed"
    },
    "tags": []
   },
   "outputs": [],
   "source": [
    "# This Python 3 environment comes with many helpful analytics libraries installed\n",
    "# It is defined by the kaggle/python Docker image: https://github.com/kaggle/docker-python\n",
    "# For example, here's several helpful packages to load\n",
    "\n",
    "import numpy as np # linear algebra\n",
    "import pandas as pd # data processing, CSV file I/O (e.g. pd.read_csv)\n",
    "\n",
    "# Input data files are available in the read-only \"../input/\" directory\n",
    "# For example, running this (by clicking run or pressing Shift+Enter) will list all files under the input directory\n",
    "\n",
    "import os\n",
    "for dirname, _, filenames in os.walk('/kaggle/input'):\n",
    "    for filename in filenames:\n",
    "        print(os.path.join(dirname, filename))\n",
    "\n",
    "# You can write up to 20GB to the current directory (/kaggle/working/) that gets preserved as output when you create a version using \"Save & Run All\" \n",
    "# You can also write temporary files to /kaggle/temp/, but they won't be saved outside of the current session"
   ]
  },
  {
   "cell_type": "code",
   "execution_count": 2,
   "id": "945baf32",
   "metadata": {
    "execution": {
     "iopub.execute_input": "2023-12-20T01:32:56.682307Z",
     "iopub.status.busy": "2023-12-20T01:32:56.681053Z",
     "iopub.status.idle": "2023-12-20T01:32:56.686523Z",
     "shell.execute_reply": "2023-12-20T01:32:56.685561Z"
    },
    "papermill": {
     "duration": 0.012106,
     "end_time": "2023-12-20T01:32:56.688926",
     "exception": false,
     "start_time": "2023-12-20T01:32:56.676820",
     "status": "completed"
    },
    "tags": []
   },
   "outputs": [],
   "source": [
    "import sqlite3"
   ]
  },
  {
   "cell_type": "code",
   "execution_count": 3,
   "id": "c3a6097f",
   "metadata": {
    "execution": {
     "iopub.execute_input": "2023-12-20T01:32:56.696867Z",
     "iopub.status.busy": "2023-12-20T01:32:56.696548Z",
     "iopub.status.idle": "2023-12-20T01:33:27.481490Z",
     "shell.execute_reply": "2023-12-20T01:33:27.480328Z"
    },
    "papermill": {
     "duration": 30.79129,
     "end_time": "2023-12-20T01:33:27.483720",
     "exception": false,
     "start_time": "2023-12-20T01:32:56.692430",
     "status": "completed"
    },
    "tags": []
   },
   "outputs": [
    {
     "name": "stdout",
     "output_type": "stream",
     "text": [
      "Requirement already satisfied: ipython-sql in /opt/conda/lib/python3.10/site-packages (0.5.0)\r\n",
      "Requirement already satisfied: prettytable in /opt/conda/lib/python3.10/site-packages (from ipython-sql) (3.8.0)\r\n",
      "Requirement already satisfied: ipython in /opt/conda/lib/python3.10/site-packages (from ipython-sql) (8.14.0)\r\n",
      "Requirement already satisfied: sqlalchemy>=2.0 in /opt/conda/lib/python3.10/site-packages (from ipython-sql) (2.0.20)\r\n",
      "Requirement already satisfied: sqlparse in /opt/conda/lib/python3.10/site-packages (from ipython-sql) (0.4.4)\r\n",
      "Requirement already satisfied: six in /opt/conda/lib/python3.10/site-packages (from ipython-sql) (1.16.0)\r\n",
      "Requirement already satisfied: ipython-genutils in /opt/conda/lib/python3.10/site-packages (from ipython-sql) (0.2.0)\r\n",
      "Requirement already satisfied: typing-extensions>=4.2.0 in /opt/conda/lib/python3.10/site-packages (from sqlalchemy>=2.0->ipython-sql) (4.5.0)\r\n",
      "Requirement already satisfied: greenlet!=0.4.17 in /opt/conda/lib/python3.10/site-packages (from sqlalchemy>=2.0->ipython-sql) (2.0.2)\r\n",
      "Requirement already satisfied: backcall in /opt/conda/lib/python3.10/site-packages (from ipython->ipython-sql) (0.2.0)\r\n",
      "Requirement already satisfied: decorator in /opt/conda/lib/python3.10/site-packages (from ipython->ipython-sql) (5.1.1)\r\n",
      "Requirement already satisfied: jedi>=0.16 in /opt/conda/lib/python3.10/site-packages (from ipython->ipython-sql) (0.19.0)\r\n",
      "Requirement already satisfied: matplotlib-inline in /opt/conda/lib/python3.10/site-packages (from ipython->ipython-sql) (0.1.6)\r\n",
      "Requirement already satisfied: pickleshare in /opt/conda/lib/python3.10/site-packages (from ipython->ipython-sql) (0.7.5)\r\n",
      "Requirement already satisfied: prompt-toolkit!=3.0.37,<3.1.0,>=3.0.30 in /opt/conda/lib/python3.10/site-packages (from ipython->ipython-sql) (3.0.39)\r\n",
      "Requirement already satisfied: pygments>=2.4.0 in /opt/conda/lib/python3.10/site-packages (from ipython->ipython-sql) (2.16.1)\r\n",
      "Requirement already satisfied: stack-data in /opt/conda/lib/python3.10/site-packages (from ipython->ipython-sql) (0.6.2)\r\n",
      "Requirement already satisfied: traitlets>=5 in /opt/conda/lib/python3.10/site-packages (from ipython->ipython-sql) (5.9.0)\r\n",
      "Requirement already satisfied: pexpect>4.3 in /opt/conda/lib/python3.10/site-packages (from ipython->ipython-sql) (4.8.0)\r\n",
      "Requirement already satisfied: wcwidth in /opt/conda/lib/python3.10/site-packages (from prettytable->ipython-sql) (0.2.6)\r\n",
      "Requirement already satisfied: parso<0.9.0,>=0.8.3 in /opt/conda/lib/python3.10/site-packages (from jedi>=0.16->ipython->ipython-sql) (0.8.3)\r\n",
      "Requirement already satisfied: ptyprocess>=0.5 in /opt/conda/lib/python3.10/site-packages (from pexpect>4.3->ipython->ipython-sql) (0.7.0)\r\n",
      "Requirement already satisfied: executing>=1.2.0 in /opt/conda/lib/python3.10/site-packages (from stack-data->ipython->ipython-sql) (1.2.0)\r\n",
      "Requirement already satisfied: asttokens>=2.1.0 in /opt/conda/lib/python3.10/site-packages (from stack-data->ipython->ipython-sql) (2.2.1)\r\n",
      "Requirement already satisfied: pure-eval in /opt/conda/lib/python3.10/site-packages (from stack-data->ipython->ipython-sql) (0.2.2)\r\n"
     ]
    }
   ],
   "source": [
    "! pip install ipython-sql"
   ]
  },
  {
   "cell_type": "code",
   "execution_count": 4,
   "id": "92210159",
   "metadata": {
    "execution": {
     "iopub.execute_input": "2023-12-20T01:33:27.492676Z",
     "iopub.status.busy": "2023-12-20T01:33:27.492357Z",
     "iopub.status.idle": "2023-12-20T01:33:27.517902Z",
     "shell.execute_reply": "2023-12-20T01:33:27.516786Z"
    },
    "papermill": {
     "duration": 0.032365,
     "end_time": "2023-12-20T01:33:27.519868",
     "exception": false,
     "start_time": "2023-12-20T01:33:27.487503",
     "status": "completed"
    },
    "tags": []
   },
   "outputs": [
    {
     "data": {
      "text/html": [
       "<div>\n",
       "<style scoped>\n",
       "    .dataframe tbody tr th:only-of-type {\n",
       "        vertical-align: middle;\n",
       "    }\n",
       "\n",
       "    .dataframe tbody tr th {\n",
       "        vertical-align: top;\n",
       "    }\n",
       "\n",
       "    .dataframe thead th {\n",
       "        text-align: right;\n",
       "    }\n",
       "</style>\n",
       "<table border=\"1\" class=\"dataframe\">\n",
       "  <thead>\n",
       "    <tr style=\"text-align: right;\">\n",
       "      <th></th>\n",
       "      <th>product_id</th>\n",
       "      <th>low_fats</th>\n",
       "      <th>recyclable</th>\n",
       "    </tr>\n",
       "  </thead>\n",
       "  <tbody>\n",
       "    <tr>\n",
       "      <th>0</th>\n",
       "      <td>0</td>\n",
       "      <td>Y</td>\n",
       "      <td>N</td>\n",
       "    </tr>\n",
       "    <tr>\n",
       "      <th>1</th>\n",
       "      <td>1</td>\n",
       "      <td>Y</td>\n",
       "      <td>Y</td>\n",
       "    </tr>\n",
       "    <tr>\n",
       "      <th>2</th>\n",
       "      <td>2</td>\n",
       "      <td>N</td>\n",
       "      <td>Y</td>\n",
       "    </tr>\n",
       "    <tr>\n",
       "      <th>3</th>\n",
       "      <td>3</td>\n",
       "      <td>Y</td>\n",
       "      <td>Y</td>\n",
       "    </tr>\n",
       "    <tr>\n",
       "      <th>4</th>\n",
       "      <td>4</td>\n",
       "      <td>N</td>\n",
       "      <td>N</td>\n",
       "    </tr>\n",
       "  </tbody>\n",
       "</table>\n",
       "</div>"
      ],
      "text/plain": [
       "   product_id low_fats recyclable\n",
       "0           0        Y          N\n",
       "1           1        Y          Y\n",
       "2           2        N          Y\n",
       "3           3        Y          Y\n",
       "4           4        N          N"
      ]
     },
     "execution_count": 4,
     "metadata": {},
     "output_type": "execute_result"
    }
   ],
   "source": [
    "df = pd.DataFrame({'product_id' : [0,1,2,3,4],\n",
    "            'low_fats' : ['Y', 'Y', 'N', 'Y', 'N'],\n",
    "            'recyclable' : ['N', 'Y', 'Y', 'Y', 'N']})\n",
    "df"
   ]
  },
  {
   "cell_type": "code",
   "execution_count": 5,
   "id": "ae8d8807",
   "metadata": {
    "execution": {
     "iopub.execute_input": "2023-12-20T01:33:27.529460Z",
     "iopub.status.busy": "2023-12-20T01:33:27.529143Z",
     "iopub.status.idle": "2023-12-20T01:33:27.533500Z",
     "shell.execute_reply": "2023-12-20T01:33:27.532564Z"
    },
    "papermill": {
     "duration": 0.011388,
     "end_time": "2023-12-20T01:33:27.535282",
     "exception": false,
     "start_time": "2023-12-20T01:33:27.523894",
     "status": "completed"
    },
    "tags": []
   },
   "outputs": [],
   "source": [
    "cnn = sqlite3.connect('jupyter_sql_tutorial.db')"
   ]
  },
  {
   "cell_type": "code",
   "execution_count": 6,
   "id": "15ea9b93",
   "metadata": {
    "execution": {
     "iopub.execute_input": "2023-12-20T01:33:27.544939Z",
     "iopub.status.busy": "2023-12-20T01:33:27.544343Z",
     "iopub.status.idle": "2023-12-20T01:33:27.581196Z",
     "shell.execute_reply": "2023-12-20T01:33:27.580584Z"
    },
    "papermill": {
     "duration": 0.043548,
     "end_time": "2023-12-20T01:33:27.582873",
     "exception": false,
     "start_time": "2023-12-20T01:33:27.539325",
     "status": "completed"
    },
    "tags": []
   },
   "outputs": [
    {
     "data": {
      "text/plain": [
       "5"
      ]
     },
     "execution_count": 6,
     "metadata": {},
     "output_type": "execute_result"
    }
   ],
   "source": [
    "df.to_sql('Product', cnn)"
   ]
  },
  {
   "cell_type": "code",
   "execution_count": 7,
   "id": "5bc728e8",
   "metadata": {
    "execution": {
     "iopub.execute_input": "2023-12-20T01:33:27.592837Z",
     "iopub.status.busy": "2023-12-20T01:33:27.592209Z",
     "iopub.status.idle": "2023-12-20T01:33:28.211747Z",
     "shell.execute_reply": "2023-12-20T01:33:28.210405Z"
    },
    "papermill": {
     "duration": 0.627241,
     "end_time": "2023-12-20T01:33:28.214198",
     "exception": false,
     "start_time": "2023-12-20T01:33:27.586957",
     "status": "completed"
    },
    "tags": []
   },
   "outputs": [],
   "source": [
    "%load_ext sql"
   ]
  },
  {
   "cell_type": "code",
   "execution_count": 8,
   "id": "b1876789",
   "metadata": {
    "execution": {
     "iopub.execute_input": "2023-12-20T01:33:28.224374Z",
     "iopub.status.busy": "2023-12-20T01:33:28.224011Z",
     "iopub.status.idle": "2023-12-20T01:33:28.260792Z",
     "shell.execute_reply": "2023-12-20T01:33:28.259919Z"
    },
    "papermill": {
     "duration": 0.044672,
     "end_time": "2023-12-20T01:33:28.263016",
     "exception": false,
     "start_time": "2023-12-20T01:33:28.218344",
     "status": "completed"
    },
    "tags": []
   },
   "outputs": [],
   "source": [
    "%sql sqlite:///jupyter_sql_tutorial.db"
   ]
  },
  {
   "cell_type": "code",
   "execution_count": 9,
   "id": "dbf0041a",
   "metadata": {
    "execution": {
     "iopub.execute_input": "2023-12-20T01:33:28.273405Z",
     "iopub.status.busy": "2023-12-20T01:33:28.273050Z",
     "iopub.status.idle": "2023-12-20T01:33:28.287394Z",
     "shell.execute_reply": "2023-12-20T01:33:28.286389Z"
    },
    "papermill": {
     "duration": 0.022153,
     "end_time": "2023-12-20T01:33:28.289905",
     "exception": false,
     "start_time": "2023-12-20T01:33:28.267752",
     "status": "completed"
    },
    "tags": []
   },
   "outputs": [
    {
     "name": "stdout",
     "output_type": "stream",
     "text": [
      " * sqlite:///jupyter_sql_tutorial.db\n",
      "(sqlite3.OperationalError) no such table: people\n",
      "[SQL: SELECT * FROM people]\n",
      "(Background on this error at: https://sqlalche.me/e/20/e3q8)\n"
     ]
    }
   ],
   "source": [
    "%%sql\n",
    "SELECT * FROM people"
   ]
  },
  {
   "cell_type": "code",
   "execution_count": 10,
   "id": "4c158cdf",
   "metadata": {
    "execution": {
     "iopub.execute_input": "2023-12-20T01:33:28.299284Z",
     "iopub.status.busy": "2023-12-20T01:33:28.298940Z",
     "iopub.status.idle": "2023-12-20T01:33:28.304896Z",
     "shell.execute_reply": "2023-12-20T01:33:28.303898Z"
    },
    "papermill": {
     "duration": 0.012334,
     "end_time": "2023-12-20T01:33:28.306516",
     "exception": false,
     "start_time": "2023-12-20T01:33:28.294182",
     "status": "completed"
    },
    "tags": []
   },
   "outputs": [
    {
     "name": "stdout",
     "output_type": "stream",
     "text": [
      " * sqlite:///jupyter_sql_tutorial.db\n",
      "(sqlite3.OperationalError) no such table: people\n",
      "[SQL: SELECT  COUNT(*) FROM people]\n",
      "(Background on this error at: https://sqlalche.me/e/20/e3q8)\n"
     ]
    }
   ],
   "source": [
    "%%sql\n",
    "SELECT  COUNT(*) FROM people"
   ]
  },
  {
   "cell_type": "code",
   "execution_count": 11,
   "id": "ba1dba53",
   "metadata": {
    "execution": {
     "iopub.execute_input": "2023-12-20T01:33:28.315914Z",
     "iopub.status.busy": "2023-12-20T01:33:28.315594Z",
     "iopub.status.idle": "2023-12-20T01:33:28.321278Z",
     "shell.execute_reply": "2023-12-20T01:33:28.320422Z"
    },
    "papermill": {
     "duration": 0.012384,
     "end_time": "2023-12-20T01:33:28.323009",
     "exception": false,
     "start_time": "2023-12-20T01:33:28.310625",
     "status": "completed"
    },
    "tags": []
   },
   "outputs": [
    {
     "name": "stdout",
     "output_type": "stream",
     "text": [
      " * sqlite:///jupyter_sql_tutorial.db\n",
      "(sqlite3.OperationalError) no such table: people\n",
      "[SQL: SELECT product_id FROM people\n",
      "WHERE(low_fats = 'Y' AND recyclable = 'Y')]\n",
      "(Background on this error at: https://sqlalche.me/e/20/e3q8)\n"
     ]
    }
   ],
   "source": [
    "%%sql\n",
    "SELECT product_id FROM people\n",
    "WHERE(low_fats = 'Y' AND recyclable = 'Y')"
   ]
  },
  {
   "cell_type": "code",
   "execution_count": 12,
   "id": "d11ac3ae",
   "metadata": {
    "execution": {
     "iopub.execute_input": "2023-12-20T01:33:28.332146Z",
     "iopub.status.busy": "2023-12-20T01:33:28.331873Z",
     "iopub.status.idle": "2023-12-20T01:33:28.354301Z",
     "shell.execute_reply": "2023-12-20T01:33:28.353362Z"
    },
    "papermill": {
     "duration": 0.02903,
     "end_time": "2023-12-20T01:33:28.356069",
     "exception": false,
     "start_time": "2023-12-20T01:33:28.327039",
     "status": "completed"
    },
    "tags": []
   },
   "outputs": [
    {
     "data": {
      "text/html": [
       "<div>\n",
       "<style scoped>\n",
       "    .dataframe tbody tr th:only-of-type {\n",
       "        vertical-align: middle;\n",
       "    }\n",
       "\n",
       "    .dataframe tbody tr th {\n",
       "        vertical-align: top;\n",
       "    }\n",
       "\n",
       "    .dataframe thead th {\n",
       "        text-align: right;\n",
       "    }\n",
       "</style>\n",
       "<table border=\"1\" class=\"dataframe\">\n",
       "  <thead>\n",
       "    <tr style=\"text-align: right;\">\n",
       "      <th></th>\n",
       "      <th>product_id</th>\n",
       "    </tr>\n",
       "  </thead>\n",
       "  <tbody>\n",
       "    <tr>\n",
       "      <th>0</th>\n",
       "      <td>1</td>\n",
       "    </tr>\n",
       "    <tr>\n",
       "      <th>1</th>\n",
       "      <td>2</td>\n",
       "    </tr>\n",
       "  </tbody>\n",
       "</table>\n",
       "</div>"
      ],
      "text/plain": [
       "   product_id\n",
       "0           1\n",
       "1           2"
      ]
     },
     "execution_count": 12,
     "metadata": {},
     "output_type": "execute_result"
    }
   ],
   "source": [
    "import pandas as pd\n",
    "# Find the product_id Attribut and rows 1 and 3\n",
    "def find_products(products: pd.DataFrame) -> pd.DataFrame:\n",
    "    result = products[(products['low_fats'] == 'Y') & (products['recyclable'] == 'Y')]\n",
    "    return result[['product_id']]\n",
    "\n",
    "# Example Usage:\n",
    "# Assuming 'products' DataFrame has columns 'product_id', 'low_fats', and 'recyclable'\n",
    "# Replace this with your actual DataFrame\n",
    "\n",
    "data = {'product_id': [1, 2, 3, 4],\n",
    "        'low_fats': ['Y', 'Y', 'N', 'Y'],\n",
    "        'recyclable': ['Y', 'Y', 'Y', 'N']}\n",
    "products_df = pd.DataFrame(data)\n",
    "\n",
    "filtered_products = find_products(products_df)\n",
    "filtered_products\n"
   ]
  },
  {
   "cell_type": "markdown",
   "id": "645adaf9",
   "metadata": {
    "papermill": {
     "duration": 0.003926,
     "end_time": "2023-12-20T01:33:28.364275",
     "exception": false,
     "start_time": "2023-12-20T01:33:28.360349",
     "status": "completed"
    },
    "tags": []
   },
   "source": [
    "Table: Products\n",
    "+-------------+---------+\n",
    "| Column Name | Type    |\n",
    "+-------------+---------+\n",
    "| product_id  | int     |\n",
    "| low_fats    | enum    |\n",
    "| recyclable  | enum    |\n",
    "+-------------+---------+\n",
    "product_id is the primary key (column with unique values) for this table.\n",
    "low_fats is an ENUM (category) of type ('Y', 'N') where 'Y' means this product is low fat and 'N' means it is not.\n",
    "recyclable is an ENUM (category) of types ('Y', 'N') where 'Y' means this product is recyclable and 'N' means it is not.\n",
    " \n",
    "\n",
    "Write a solution to find the ids of products that are both low fat and recyclable.\n",
    "\n",
    "Return the result table in any order.\n",
    "\n",
    "The result format is in the following example.\n",
    "\n",
    " \n",
    "\n",
    "Example 1:\n",
    "\n",
    "Input: \n",
    "Products table:\n",
    "+-------------+----------+------------+\n",
    "| product_id  | low_fats | recyclable |\n",
    "+-------------+----------+------------+\n",
    "| 0           | Y        | N          |\n",
    "| 1           | Y        | Y          |\n",
    "| 2           | N        | Y          |\n",
    "| 3           | Y        | Y          |\n",
    "| 4           | N        | N          |\n",
    "+-------------+----------+------------+\n",
    "Output: \n",
    "+-------------+\n",
    "| product_id  |\n",
    "+-------------+\n",
    "| 1           |\n",
    "| 3           |\n",
    "+-------------+\n",
    "Explanation: Only products 1 and 3 are both low fat and recyclable."
   ]
  },
  {
   "cell_type": "markdown",
   "id": "82b8ca1d",
   "metadata": {
    "papermill": {
     "duration": 0.003756,
     "end_time": "2023-12-20T01:33:28.372010",
     "exception": false,
     "start_time": "2023-12-20T01:33:28.368254",
     "status": "completed"
    },
    "tags": []
   },
   "source": []
  }
 ],
 "metadata": {
  "kaggle": {
   "accelerator": "none",
   "dataSources": [],
   "dockerImageVersionId": 30626,
   "isGpuEnabled": false,
   "isInternetEnabled": false,
   "language": "python",
   "sourceType": "notebook"
  },
  "kernelspec": {
   "display_name": "Python 3",
   "language": "python",
   "name": "python3"
  },
  "language_info": {
   "codemirror_mode": {
    "name": "ipython",
    "version": 3
   },
   "file_extension": ".py",
   "mimetype": "text/x-python",
   "name": "python",
   "nbconvert_exporter": "python",
   "pygments_lexer": "ipython3",
   "version": "3.10.12"
  },
  "papermill": {
   "default_parameters": {},
   "duration": 34.986997,
   "end_time": "2023-12-20T01:33:28.896837",
   "environment_variables": {},
   "exception": null,
   "input_path": "__notebook__.ipynb",
   "output_path": "__notebook__.ipynb",
   "parameters": {},
   "start_time": "2023-12-20T01:32:53.909840",
   "version": "2.4.0"
  }
 },
 "nbformat": 4,
 "nbformat_minor": 5
}
